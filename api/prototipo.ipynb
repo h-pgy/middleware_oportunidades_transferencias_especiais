{
 "cells": [
  {
   "cell_type": "code",
   "execution_count": 1,
   "id": "2fc8fdb7",
   "metadata": {},
   "outputs": [],
   "source": [
    "from core.assets import planos_acao\n",
    "from core.parsers import parse_plano_acao_detailed\n",
    "from core.transform import injetar_detalhes_plano_acao"
   ]
  },
  {
   "cell_type": "code",
   "execution_count": 2,
   "id": "f30297b1",
   "metadata": {},
   "outputs": [
    {
     "name": "stdout",
     "output_type": "stream",
     "text": [
      "Setting cache for key: all_planos_acao\n"
     ]
    }
   ],
   "source": [
    "p = planos_acao.all_planos_acao()"
   ]
  },
  {
   "cell_type": "code",
   "execution_count": 3,
   "id": "2ddc4f29",
   "metadata": {},
   "outputs": [
    {
     "data": {
      "text/plain": [
       "{'planoAcaoId': 35835,\n",
       " 'planoAcaoSituacao': 'CIENTE',\n",
       " 'programaId': 12,\n",
       " 'programaCodigo': '09032023',\n",
       " 'beneficiarioId': 6993,\n",
       " 'beneficiarioNome': 'MUNICIPIO DE POTE',\n",
       " 'beneficiarioCnpj': '18404970000118',\n",
       " 'enteId': 3692,\n",
       " 'uf': 'MG',\n",
       " 'politicasPublicas': '15-Urbanismo / 451-Infraestrutura Urbana ',\n",
       " 'codigoEmendaFormatado': '202331860005-Eduardo Barbosa',\n",
       " 'valorCusteio': 0.0,\n",
       " 'valorInvestimento': 352447.0,\n",
       " 'motivoImpedimento': None,\n",
       " 'planoTrabalhoSituacao': 'EM_COMPLEMENTACAO',\n",
       " 'valorTotal': 352447.0,\n",
       " 'planoAcaoCodigo': '09032023-035835'}"
      ]
     },
     "execution_count": 3,
     "metadata": {},
     "output_type": "execute_result"
    }
   ],
   "source": [
    "p[0]"
   ]
  },
  {
   "cell_type": "code",
   "execution_count": 4,
   "id": "5403502c",
   "metadata": {},
   "outputs": [],
   "source": [
    "detalhes = injetar_detalhes_plano_acao(p[0])"
   ]
  },
  {
   "cell_type": "code",
   "execution_count": 6,
   "id": "4944aa5c",
   "metadata": {},
   "outputs": [
    {
     "data": {
      "text/plain": [
       "{'id': 35835,\n",
       " 'codigo_do_programa': '09032023',\n",
       " 'situacao': 'CIENTE',\n",
       " 'finalidades': [{'codigo': '15', 'descricao': 'Urbanismo'},\n",
       "  {'codigo': '451', 'descricao': 'Infraestrutura Urbana'}],\n",
       " 'uf': 'MG',\n",
       " 'valores': {'custeio': 0.0, 'investimento': 352447.0},\n",
       " 'modalidade': 'ESPECIAL',\n",
       " 'orgao': None,\n",
       " 'dt_inicio_propostas': None,\n",
       " 'dt_fim_propostas': None}"
      ]
     },
     "execution_count": 6,
     "metadata": {},
     "output_type": "execute_result"
    }
   ],
   "source": [
    "parse_plano_acao_detailed(detalhes)"
   ]
  },
  {
   "cell_type": "code",
   "execution_count": null,
   "id": "663fc0d0",
   "metadata": {},
   "outputs": [],
   "source": [
    "for p in p:\n",
    "    detalhes = injetar_detalhes_plano_acao(p)\n",
    "    parse_plano_acao_detailed(detalhes)"
   ]
  },
  {
   "cell_type": "code",
   "execution_count": null,
   "id": "5d847038",
   "metadata": {},
   "outputs": [],
   "source": []
  }
 ],
 "metadata": {
  "kernelspec": {
   "display_name": ".venv",
   "language": "python",
   "name": "python3"
  },
  "language_info": {
   "codemirror_mode": {
    "name": "ipython",
    "version": 3
   },
   "file_extension": ".py",
   "mimetype": "text/x-python",
   "name": "python",
   "nbconvert_exporter": "python",
   "pygments_lexer": "ipython3",
   "version": "3.12.3"
  }
 },
 "nbformat": 4,
 "nbformat_minor": 5
}
